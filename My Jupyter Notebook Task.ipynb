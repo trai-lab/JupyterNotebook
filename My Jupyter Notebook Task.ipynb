{
  "metadata": {
    "language_info": {
      "codemirror_mode": {
        "name": "python",
        "version": 3
      },
      "file_extension": ".py",
      "mimetype": "text/x-python",
      "name": "python",
      "nbconvert_exporter": "python",
      "pygments_lexer": "ipython3",
      "version": "3.8"
    },
    "kernelspec": {
      "name": "python",
      "display_name": "Pyolite",
      "language": "python"
    }
  },
  "nbformat_minor": 4,
  "nbformat": 4,
  "cells": [
    {
      "cell_type": "markdown",
      "source": "<h1>My Jupyter Notebook on IBM Watson Studio</h1>",
      "metadata": {}
    },
    {
      "cell_type": "markdown",
      "source": "<b> Andrea Ixchel Tejeda Rayas </b>",
      "metadata": {}
    },
    {
      "cell_type": "markdown",
      "source": "<i>I'm interested in data science because I'm fascinated by database management, I like to constantly learn new things, which allows me to have tools to solve  problems and propose new solutions.\nI want to expand my knowledge in the field of data meanwhile enjoying what I do.</i>",
      "metadata": {}
    },
    {
      "cell_type": "markdown",
      "source": "<h3>In the next part it will count of given substring from a string. A simple example</h3>",
      "metadata": {}
    },
    {
      "cell_type": "code",
      "source": "str = \"My drawing was not a picture of a hat. It was a picture of a boa constrictor digesting an elephant. But since the grown-ups were not able to understand it, I made another drawing: I drew the inside of the boa constrictor, so that the grown-ups could see it clearly. They always need to have things explained.\"\n# use count method of a str class\ncnt = str.count(\"drawing\")\nprint(\"Result for 'Drawing' :\")\nprint(cnt)",
      "metadata": {
        "trusted": true
      },
      "execution_count": 2,
      "outputs": [
        {
          "name": "stdout",
          "text": "Result for 'Drawing' :\n2\n",
          "output_type": "stream"
        }
      ]
    },
    {
      "cell_type": "markdown",
      "source": "<h4> Results of count of substrings</h4>\n\n|word|count|\n|----|-----|\n|drawing| 2|\n|picture| 2|\n|I      | 3|\n\n\n<a href=\"https://dataplatform.cloud.ibm.com/gallery\">IBM Cloud Gallery</a> \n\n<ul> \n    <li>Data management</li>\n    <li>Data integration and transform</li>\n    <li>Data visualitation</li>\n    <li>Model building</li>\n    <li>Model Deployment</li>\n    <li>Model monitoring and assessment</li>\n</ul>\n",
      "metadata": {}
    },
    {
      "cell_type": "code",
      "source": "",
      "metadata": {},
      "execution_count": null,
      "outputs": []
    }
  ]
}